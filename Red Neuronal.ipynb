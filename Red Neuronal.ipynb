{
 "cells": [
  {
   "cell_type": "code",
   "execution_count": 18,
   "metadata": {},
   "outputs": [
    {
     "name": "stdout",
     "output_type": "stream",
     "text": [
      "0.01798620996209156\n"
     ]
    }
   ],
   "source": [
    "import math\n",
    "\n",
    "\n",
    "\n",
    "class Neurona:\n",
    "    entradas = []  \n",
    "    pesos = []\n",
    "    bias = 0\n",
    "    \n",
    "    def __sumatoriaPonderada(self):\n",
    "        acum = self.bias\n",
    "        for x in range (0,len(self.entradas)):\n",
    "            acum = acum + self.entradas[x] * self.pesos[x] \n",
    "        return acum\n",
    "    #funcion debe parametrica \n",
    "    def __sigmoid(self, x):\n",
    "        return 1 / (1 + math.exp(-x))\n",
    "    \n",
    "    def evaluar(self):\n",
    "        return self.__sigmoid(self.__sumatoriaPonderada())\n",
    "        \n",
    "        \n",
    "neurona1 = Neurona()\n",
    "neurona1.entradas  = [2, 4]\n",
    "neurona1.pesos = [1, 1]\n",
    "neurona1.bias = -10\n",
    "  \n",
    "sumador = neurona1.evaluar()\n",
    "\n",
    "print(sumador)\n",
    "\n",
    "   \n"
   ]
  },
  {
   "cell_type": "code",
   "execution_count": null,
   "metadata": {},
   "outputs": [],
   "source": [
    "deber : como pasar una funcion como parametro para su uso de un objeto\n",
    "        como parametrisar"
   ]
  },
  {
   "cell_type": "markdown",
   "metadata": {},
   "source": [
    "## Red neuronal\n",
    "Es un conjunto de capas de neuronas\n",
    " * 1 cuantas capas.\n",
    " * 2 cuantas neuronas en cada capa.\n",
    " * 3 Todas las salidas de neuronas debe llegar a todas las entradas de otra neurona.\n",
    " * 4 entrenamiento."
   ]
  },
  {
   "cell_type": "code",
   "execution_count": null,
   "metadata": {},
   "outputs": [],
   "source": [
    "deber de mochila ejercicio"
   ]
  },
  {
   "cell_type": "code",
   "execution_count": null,
   "metadata": {},
   "outputs": [],
   "source": []
  }
 ],
 "metadata": {
  "kernelspec": {
   "display_name": "Python 3",
   "language": "python",
   "name": "python3"
  },
  "language_info": {
   "codemirror_mode": {
    "name": "ipython",
    "version": 3
   },
   "file_extension": ".py",
   "mimetype": "text/x-python",
   "name": "python",
   "nbconvert_exporter": "python",
   "pygments_lexer": "ipython3",
   "version": "3.7.6"
  }
 },
 "nbformat": 4,
 "nbformat_minor": 4
}
